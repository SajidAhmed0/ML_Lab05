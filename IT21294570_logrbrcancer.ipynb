{
  "cells": [
    {
      "cell_type": "code",
      "execution_count": 1,
      "metadata": {
        "colab": {
          "base_uri": "https://localhost:8080/"
        },
        "id": "x4eGDAlp2KT_",
        "outputId": "9bdd4905-7c82-4f2c-fc1e-ea9d9ca188d2"
      },
      "outputs": [
        {
          "output_type": "stream",
          "name": "stdout",
          "text": [
            "Sample rows from the dataset:\n",
            "   mean radius  mean texture  mean perimeter  mean area  target\n",
            "0        17.99         10.38          122.80     1001.0       0\n",
            "1        20.57         17.77          132.90     1326.0       0\n",
            "2        19.69         21.25          130.00     1203.0       0\n",
            "3        11.42         20.38           77.58      386.1       0\n",
            "4        20.29         14.34          135.10     1297.0       0\n",
            "\n",
            "Dataset Summary:\n",
            "Total samples: 569\n",
            "Class 1: 357 samples (62.74%)\n",
            "Class 0: 212 samples (37.26%)\n",
            "\n",
            "Training Accuracy: 0.9890\n",
            "Test Accuracy: 0.9825\n"
          ]
        }
      ],
      "source": [
        "import pandas as pd\n",
        "import numpy as np\n",
        "import matplotlib.pyplot as plt\n",
        "from sklearn.model_selection import train_test_split\n",
        "from sklearn.preprocessing import StandardScaler\n",
        "from sklearn.linear_model import LogisticRegression\n",
        "from sklearn.metrics import accuracy_score\n",
        "\n",
        "# Load dataset (Example: Breast Cancer dataset from sklearn)\n",
        "from sklearn.datasets import load_breast_cancer\n",
        "data = load_breast_cancer()\n",
        "df = pd.DataFrame(data.data, columns=data.feature_names)\n",
        "df['target'] = data.target\n",
        "\n",
        "# Select a few columns to display along with target\n",
        "columns_to_display = ['mean radius', 'mean texture', 'mean perimeter', 'mean area', 'target']\n",
        "print(\"Sample rows from the dataset:\")\n",
        "print(df[columns_to_display].head())\n",
        "\n",
        "# Print total samples and class distribution\n",
        "total_samples = len(df)\n",
        "class_counts = df['target'].value_counts()\n",
        "print(\"\\nDataset Summary:\")\n",
        "print(f\"Total samples: {total_samples}\")\n",
        "for cls, count in class_counts.items():\n",
        "    percentage = (count / total_samples) * 100\n",
        "    print(f\"Class {cls}: {count} samples ({percentage:.2f}%)\")\n",
        "\n",
        "# Splitting data into features and target\n",
        "X = df.drop(columns=['target'])\n",
        "y = df['target']\n",
        "\n",
        "# Splitting into training and testing sets while maintaining class distribution\n",
        "X_train, X_test, y_train, y_test = train_test_split(X, y, test_size=0.2, random_state=42, stratify=y)\n",
        "\n",
        "# Standardizing the features to ensure optimal model performance\n",
        "scaler = StandardScaler()\n",
        "X_train = scaler.fit_transform(X_train)\n",
        "X_test = scaler.transform(X_test)\n",
        "\n",
        "# Set a default regularization strength (C value)\n",
        "C_value = 1.0  # Default regularization strength\n",
        "\n",
        "# Train Logistic Regression model with L2 regularization\n",
        "model = LogisticRegression(penalty='l2', C=C_value, solver='liblinear')\n",
        "model.fit(X_train, y_train)\n",
        "\n",
        "# Evaluate model performance on training and test sets\n",
        "train_accuracy = accuracy_score(y_train, model.predict(X_train))\n",
        "test_accuracy = accuracy_score(y_test, model.predict(X_test))\n",
        "\n",
        "# Print accuracy results\n",
        "print(f'\\nTraining Accuracy: {train_accuracy:.4f}')\n",
        "print(f'Test Accuracy: {test_accuracy:.4f}')\n",
        "\n",
        "# TODO: Uncomment the code below the dashed line to test different regularization strengths in a loop\n",
        "# and visualize the effect of regularization on training and test accuracy.\n",
        "\n",
        "# Loop through different regularization strengths and store accuracies\n",
        "# ------------------------------------\n",
        "\n",
        "# C_values = np.logspace(-3, 3, 10)  # Regularization strengths from 0.001 to 1000\n",
        "# train_accuracies = []\n",
        "# test_accuracies = []\n",
        "\n",
        "# for C in C_values:\n",
        "#   model = LogisticRegression(penalty='l2', C=C, solver='liblinear')\n",
        "#   model.fit(X_train, y_train)\n",
        "\n",
        "#   train_acc = accuracy_score(y_train, model.predict(X_train))\n",
        "#   test_acc = accuracy_score(y_test, model.predict(X_test))\n",
        "\n",
        "#   train_accuracies.append(train_acc)\n",
        "#   test_accuracies.append(test_acc)\n",
        "\n",
        "# # Plot training vs. test accuracies\n",
        "# plt.figure(figsize=(8, 5))\n",
        "# plt.plot(C_values, train_accuracies, marker='o', label='Training Accuracy')\n",
        "# plt.plot(C_values, test_accuracies, marker='s', label='Test Accuracy')\n",
        "# plt.xscale('log')\n",
        "# plt.xlabel('Regularization Strength (C)')\n",
        "# plt.ylabel('Accuracy')\n",
        "# plt.title('Effect of Regularization on Logistic Regression')\n",
        "# plt.legend()\n",
        "# plt.grid(True, which='both', linestyle='--', linewidth=0.5)\n",
        "# plt.xticks(C_values, rotation=45)\n",
        "# plt.yticks(np.linspace(min(test_accuracies), max(train_accuracies), num=10))\n",
        "# plt.show()\n"
      ]
    },
    {
      "cell_type": "code",
      "execution_count": null,
      "metadata": {
        "id": "p2QoUvX52KUB"
      },
      "outputs": [],
      "source": []
    },
    {
      "cell_type": "code",
      "execution_count": null,
      "metadata": {
        "id": "21doCwPX2KUB"
      },
      "outputs": [],
      "source": []
    },
    {
      "cell_type": "code",
      "execution_count": null,
      "metadata": {
        "id": "sKoXBO1g2KUB"
      },
      "outputs": [],
      "source": []
    },
    {
      "cell_type": "code",
      "execution_count": null,
      "metadata": {
        "id": "ggbBVvph2KUB"
      },
      "outputs": [],
      "source": []
    }
  ],
  "metadata": {
    "kernelspec": {
      "display_name": "Python 3",
      "language": "python",
      "name": "python3"
    },
    "language_info": {
      "codemirror_mode": {
        "name": "ipython",
        "version": 3
      },
      "file_extension": ".py",
      "mimetype": "text/x-python",
      "name": "python",
      "nbconvert_exporter": "python",
      "pygments_lexer": "ipython3",
      "version": "3.8.5"
    },
    "colab": {
      "provenance": []
    }
  },
  "nbformat": 4,
  "nbformat_minor": 0
}